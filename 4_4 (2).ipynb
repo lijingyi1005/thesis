{
  "nbformat": 4,
  "nbformat_minor": 0,
  "metadata": {
    "colab": {
      "name": "4_4.ipynb",
      "provenance": [],
      "collapsed_sections": []
    },
    "kernelspec": {
      "name": "python3",
      "display_name": "Python 3"
    },
    "language_info": {
      "name": "python"
    },
    "accelerator": "GPU"
  },
  "cells": [
    {
      "cell_type": "code",
      "metadata": {
        "colab": {
          "base_uri": "https://localhost:8080/"
        },
        "id": "xHe94OlUjOyU",
        "outputId": "ffd8f602-2e51-474c-b551-0c102cea14bc"
      },
      "source": [
        "import pandas as pd\n",
        "pd.options.mode.chained_assignment = None\n",
        "import numpy as np\n",
        "import seaborn as sns\n",
        "import matplotlib.pyplot as plt\n",
        "from matplotlib.ticker import MaxNLocator\n",
        "\n",
        "#from string import punctuation\n",
        "\n",
        "from sklearn.model_selection import train_test_split\n",
        "from tqdm import tqdm\n",
        "tqdm.pandas(desc=\"progress-bar\")\n",
        "\n",
        "# NLP libraires\n",
        "\n",
        "import gensim # pip install gensim\n",
        "from gensim.models.word2vec import Word2Vec # word2vec model gensim class\n",
        "TaggedDocument = gensim.models.doc2vec.TaggedDocument\n",
        "from sklearn.feature_extraction.text import TfidfVectorizer\n",
        "from nltk.tokenize import TweetTokenizer # a tweet tokenizer from nltk"
      ],
      "execution_count": null,
      "outputs": [
        {
          "output_type": "stream",
          "text": [
            "/usr/local/lib/python3.7/dist-packages/tqdm/std.py:658: FutureWarning: The Panel class is removed from pandas. Accessing it from the top-level namespace will also be removed in the next version\n",
            "  from pandas import Panel\n"
          ],
          "name": "stderr"
        }
      ]
    },
    {
      "cell_type": "code",
      "metadata": {
        "colab": {
          "base_uri": "https://localhost:8080/",
          "height": 35
        },
        "id": "bjiIt_A1jVVl",
        "outputId": "a35f0cbc-8779-4cb5-e522-49477c710699"
      },
      "source": [
        "import tensorflow as tf\n",
        "tf.test.gpu_device_name()"
      ],
      "execution_count": null,
      "outputs": [
        {
          "output_type": "execute_result",
          "data": {
            "application/vnd.google.colaboratory.intrinsic+json": {
              "type": "string"
            },
            "text/plain": [
              "'/device:GPU:0'"
            ]
          },
          "metadata": {
            "tags": []
          },
          "execution_count": 2
        }
      ]
    },
    {
      "cell_type": "code",
      "metadata": {
        "colab": {
          "base_uri": "https://localhost:8080/"
        },
        "id": "3OJLrSGujYCl",
        "outputId": "1ef8ceed-b9cc-4c21-da01-737340652fbc"
      },
      "source": [
        "from google.colab import drive\n",
        "drive.mount('/content/drive/')"
      ],
      "execution_count": null,
      "outputs": [
        {
          "output_type": "stream",
          "text": [
            "Mounted at /content/drive/\n"
          ],
          "name": "stdout"
        }
      ]
    },
    {
      "cell_type": "markdown",
      "metadata": {
        "id": "6vRwpvT-j_So"
      },
      "source": [
        "导入数据"
      ]
    },
    {
      "cell_type": "code",
      "metadata": {
        "id": "l94WpsVhjgvn"
      },
      "source": [
        "df_train = pd.read_csv(\"/content/drive/My Drive/sentiment324/Train.csv\", encoding='UTF-8')"
      ],
      "execution_count": null,
      "outputs": []
    },
    {
      "cell_type": "code",
      "metadata": {
        "id": "KwCx2buZjutm"
      },
      "source": [
        "df_valid = pd.read_csv(\"/content/drive/My Drive/sentiment324/Valid.csv\", encoding='UTF-8')"
      ],
      "execution_count": null,
      "outputs": []
    },
    {
      "cell_type": "code",
      "metadata": {
        "id": "F3Qbi0SDj3Ny"
      },
      "source": [
        "df_test = pd.read_csv(\"/content/drive/My Drive/sentiment324/Test.csv\", encoding='UTF-8')"
      ],
      "execution_count": null,
      "outputs": []
    },
    {
      "cell_type": "code",
      "metadata": {
        "colab": {
          "base_uri": "https://localhost:8080/",
          "height": 204
        },
        "id": "tG6mrNLIj5eX",
        "outputId": "52e2c2c0-f189-41ac-b3b3-8937e8a40976"
      },
      "source": [
        "data = pd.concat([df_train,df_valid])\n",
        "data.head()"
      ],
      "execution_count": null,
      "outputs": [
        {
          "output_type": "execute_result",
          "data": {
            "text/html": [
              "<div>\n",
              "<style scoped>\n",
              "    .dataframe tbody tr th:only-of-type {\n",
              "        vertical-align: middle;\n",
              "    }\n",
              "\n",
              "    .dataframe tbody tr th {\n",
              "        vertical-align: top;\n",
              "    }\n",
              "\n",
              "    .dataframe thead th {\n",
              "        text-align: right;\n",
              "    }\n",
              "</style>\n",
              "<table border=\"1\" class=\"dataframe\">\n",
              "  <thead>\n",
              "    <tr style=\"text-align: right;\">\n",
              "      <th></th>\n",
              "      <th>text</th>\n",
              "      <th>label</th>\n",
              "    </tr>\n",
              "  </thead>\n",
              "  <tbody>\n",
              "    <tr>\n",
              "      <th>0</th>\n",
              "      <td>I grew up (b. 1965) watching and loving the Th...</td>\n",
              "      <td>0</td>\n",
              "    </tr>\n",
              "    <tr>\n",
              "      <th>1</th>\n",
              "      <td>When I put this movie in my DVD player, and sa...</td>\n",
              "      <td>0</td>\n",
              "    </tr>\n",
              "    <tr>\n",
              "      <th>2</th>\n",
              "      <td>Why do people who do not know what a particula...</td>\n",
              "      <td>0</td>\n",
              "    </tr>\n",
              "    <tr>\n",
              "      <th>3</th>\n",
              "      <td>Even though I have great interest in Biblical ...</td>\n",
              "      <td>0</td>\n",
              "    </tr>\n",
              "    <tr>\n",
              "      <th>4</th>\n",
              "      <td>Im a die hard Dads Army fan and nothing will e...</td>\n",
              "      <td>1</td>\n",
              "    </tr>\n",
              "  </tbody>\n",
              "</table>\n",
              "</div>"
            ],
            "text/plain": [
              "                                                text  label\n",
              "0  I grew up (b. 1965) watching and loving the Th...      0\n",
              "1  When I put this movie in my DVD player, and sa...      0\n",
              "2  Why do people who do not know what a particula...      0\n",
              "3  Even though I have great interest in Biblical ...      0\n",
              "4  Im a die hard Dads Army fan and nothing will e...      1"
            ]
          },
          "metadata": {
            "tags": []
          },
          "execution_count": 7
        }
      ]
    },
    {
      "cell_type": "markdown",
      "metadata": {
        "id": "0s2N8galkHTO"
      },
      "source": [
        "分析数据"
      ]
    },
    {
      "cell_type": "code",
      "metadata": {
        "id": "qSaKhmY4kIw9"
      },
      "source": [
        "def split_df(df_row):\n",
        "    return len(str(df_row).split())\n",
        "len_data_dist = np.vectorize(split_df)(data['text'])\n",
        "len_test_dist = np.vectorize(split_df)(df_test['text'])"
      ],
      "execution_count": null,
      "outputs": []
    },
    {
      "cell_type": "code",
      "metadata": {
        "colab": {
          "base_uri": "https://localhost:8080/"
        },
        "id": "vBxyLOlHkRTN",
        "outputId": "f3ff0235-2b5f-41e3-e38c-c040d1ff29fc"
      },
      "source": [
        "print(pd.Series(len_data_dist).describe())\n",
        "print(pd.Series(len_test_dist).describe())"
      ],
      "execution_count": null,
      "outputs": [
        {
          "output_type": "stream",
          "text": [
            "count    45000.000000\n",
            "mean       231.071844\n",
            "std        170.988600\n",
            "min          4.000000\n",
            "25%        126.000000\n",
            "50%        173.000000\n",
            "75%        281.000000\n",
            "max       2470.000000\n",
            "dtype: float64\n",
            "count    5000.000000\n",
            "mean      231.922800\n",
            "std       174.525522\n",
            "min        10.000000\n",
            "25%       128.000000\n",
            "50%       173.000000\n",
            "75%       278.000000\n",
            "max      2108.000000\n",
            "dtype: float64\n"
          ],
          "name": "stdout"
        }
      ]
    },
    {
      "cell_type": "code",
      "metadata": {
        "colab": {
          "base_uri": "https://localhost:8080/",
          "height": 360
        },
        "id": "bOHPaqgkkXxl",
        "outputId": "2f361c9a-1253-4a17-f4e2-4e7173726f98"
      },
      "source": [
        "fig, ax = plt.subplots(1,1,figsize=(12,6))\n",
        "ax = plt.hist(x=len_data_dist, bins=100)\n",
        "ax = plt.hist(x=len_test_dist, bins=100)\n",
        "plt.xlim([0, max(max(len_data_dist), max(len_test_dist))])\n",
        "plt.xlabel(\"length of sample\")\n",
        "plt.ylabel(\"number of sample\")\n",
        "plt.legend(['train_len','test_len'])\n",
        "plt.show()"
      ],
      "execution_count": null,
      "outputs": [
        {
          "output_type": "display_data",
          "data": {
            "image/png": "[encoded data removed]",
            "text/plain": [
              "<Figure size 864x432 with 1 Axes>"
            ]
          },
          "metadata": {
            "tags": [],
            "needs_background": "light"
          }
        }
      ]
    },
    {
      "cell_type": "code",
      "metadata": {
        "colab": {
          "base_uri": "https://localhost:8080/",
          "height": 359
        },
        "id": "GLMImD8-kiDr",
        "outputId": "86342432-b460-40c3-9dee-a0b91d51b05e"
      },
      "source": [
        "plt.figure(figsize=(15,5))\n",
        "ax = sns.distplot(len_data_dist, bins=100)\n",
        "ax = sns.distplot(len_test_dist, bins=100)\n",
        "plt.xlim([0, max(max(len_data_dist), max(len_test_dist))])\n",
        "plt.xlabel(\"length of sample\")\n",
        "plt.ylabel(\"prob of sample\")\n",
        "plt.legend(['train_len','test_len'])"
      ],
      "execution_count": null,
      "outputs": [
        {
          "output_type": "stream",
          "text": [
            "/usr/local/lib/python3.7/dist-packages/seaborn/distributions.py:2557: FutureWarning: `distplot` is a deprecated function and will be removed in a future version. Please adapt your code to use either `displot` (a figure-level function with similar flexibility) or `histplot` (an axes-level function for histograms).\n",
            "  warnings.warn(msg, FutureWarning)\n",
            "/usr/local/lib/python3.7/dist-packages/seaborn/distributions.py:2557: FutureWarning: `distplot` is a deprecated function and will be removed in a future version. Please adapt your code to use either `displot` (a figure-level function with similar flexibility) or `histplot` (an axes-level function for histograms).\n",
            "  warnings.warn(msg, FutureWarning)\n"
          ],
          "name": "stderr"
        },
        {
          "output_type": "execute_result",
          "data": {
            "text/plain": [
              "<matplotlib.legend.Legend at 0x7f3ec2174810>"
            ]
          },
          "metadata": {
            "tags": []
          },
          "execution_count": 11
        },
        {
          "output_type": "display_data",
          "data": {
            "image/png": "[encoded data removed]",
            "text/plain": [
              "<Figure size 1080x360 with 1 Axes>"
            ]
          },
          "metadata": {
            "tags": [],
            "needs_background": "light"
          }
        }
      ]
    },
    {
      "cell_type": "code",
      "metadata": {
        "colab": {
          "base_uri": "https://localhost:8080/",
          "height": 363
        },
        "id": "PPXXF0PSkv4_",
        "outputId": "77a4ea75-58d0-43a3-e1c8-0d67b952e7a7"
      },
      "source": [
        "log_len_data_dist = np.log(1+len_data_dist)\n",
        "log_len_test_dist = np.log(1+len_test_dist)\n",
        "plt.figure(figsize=(15,5))\n",
        "ax = sns.distplot(log_len_data_dist)\n",
        "ax = sns.distplot(log_len_test_dist)\n",
        "plt.xlabel(\"log length of sample\")\n",
        "plt.ylabel(\"prob of log\")\n",
        "plt.legend(['train_len','test_len'])"
      ],
      "execution_count": null,
      "outputs": [
        {
          "output_type": "stream",
          "text": [
            "/usr/local/lib/python3.7/dist-packages/seaborn/distributions.py:2557: FutureWarning: `distplot` is a deprecated function and will be removed in a future version. Please adapt your code to use either `displot` (a figure-level function with similar flexibility) or `histplot` (an axes-level function for histograms).\n",
            "  warnings.warn(msg, FutureWarning)\n",
            "/usr/local/lib/python3.7/dist-packages/seaborn/distributions.py:2557: FutureWarning: `distplot` is a deprecated function and will be removed in a future version. Please adapt your code to use either `displot` (a figure-level function with similar flexibility) or `histplot` (an axes-level function for histograms).\n",
            "  warnings.warn(msg, FutureWarning)\n"
          ],
          "name": "stderr"
        },
        {
          "output_type": "execute_result",
          "data": {
            "text/plain": [
              "<matplotlib.legend.Legend at 0x7f3e700371d0>"
            ]
          },
          "metadata": {
            "tags": []
          },
          "execution_count": 12
        },
        {
          "output_type": "display_data",
          "data": {
            "image/png": "[encoded data removed]",
            "text/plain": [
              "<Figure size 1080x360 with 1 Axes>"
            ]
          },
          "metadata": {
            "tags": [],
            "needs_background": "light"
          }
        }
      ]
    },
    {
      "cell_type": "code",
      "metadata": {
        "id": "52YC4baSk314"
      },
      "source": [
        "import scipy\n",
        "from scipy.stats import kstest\n",
        "from scipy import stats"
      ],
      "execution_count": null,
      "outputs": []
    },
    {
      "cell_type": "code",
      "metadata": {
        "colab": {
          "base_uri": "https://localhost:8080/"
        },
        "id": "GUFz4T0Wk609",
        "outputId": "097d383e-40bd-40da-f5f0-f7228fb5c010"
      },
      "source": [
        "_, lognormal_ks_pvalue = scipy.stats.kstest(rvs=log_len_data_dist, cdf='norm')\n",
        "print('P value is ', lognormal_ks_pvalue)"
      ],
      "execution_count": null,
      "outputs": [
        {
          "output_type": "stream",
          "text": [
            "P value is  0.0\n"
          ],
          "name": "stdout"
        }
      ]
    },
    {
      "cell_type": "markdown",
      "metadata": {
        "id": "wkzfQNhRlAiX"
      },
      "source": [
        "截断长度"
      ]
    },
    {
      "cell_type": "code",
      "metadata": {
        "colab": {
          "base_uri": "https://localhost:8080/"
        },
        "id": "6lsiQy0Xk_wm",
        "outputId": "a3d407be-11f3-4fe0-baee-c1501d8d092d"
      },
      "source": [
        "np.exp(7)"
      ],
      "execution_count": null,
      "outputs": [
        {
          "output_type": "execute_result",
          "data": {
            "text/plain": [
              "1096.6331584284585"
            ]
          },
          "metadata": {
            "tags": []
          },
          "execution_count": 18
        }
      ]
    },
    {
      "cell_type": "markdown",
      "metadata": {
        "id": "BqE12b_AkB6K"
      },
      "source": [
        "预处理数据（nltk）"
      ]
    },
    {
      "cell_type": "code",
      "metadata": {
        "colab": {
          "base_uri": "https://localhost:8080/"
        },
        "id": "dBcXm-tdkD3f",
        "outputId": "74637663-b7a4-4032-ef8b-4d855b191f1b"
      },
      "source": [
        "import nltk\n",
        "nltk.download('punkt')\n",
        "import string\n",
        "from nltk.tokenize import word_tokenize\n",
        "nltk.download('stopwords')\n",
        "from nltk.corpus import stopwords\n",
        "from nltk.stem.porter import PorterStemmer"
      ],
      "execution_count": null,
      "outputs": [
        {
          "output_type": "stream",
          "text": [
            "[nltk_data] Downloading package punkt to /root/nltk_data...\n",
            "[nltk_data]   Unzipping tokenizers/punkt.zip.\n",
            "[nltk_data] Downloading package stopwords to /root/nltk_data...\n",
            "[nltk_data]   Unzipping corpora/stopwords.zip.\n"
          ],
          "name": "stdout"
        }
      ]
    },
    {
      "cell_type": "code",
      "metadata": {
        "id": "QReGw_d25E-N"
      },
      "source": [
        "import keras\n",
        "from matplotlib import pyplot as plt\n",
        "from keras.preprocessing.text import Tokenizer\n",
        "from keras.preprocessing.sequence import pad_sequences"
      ],
      "execution_count": null,
      "outputs": []
    },
    {
      "cell_type": "code",
      "metadata": {
        "id": "gBj8W-4VrXtS"
      },
      "source": [
        "import re\n",
        "def preprocessor(text):\n",
        "             text=re.sub('<[^>]*>','',text)\n",
        "             emojis=re.findall('(?::|;|=)(?:-)?(?:\\)|\\(|D|P)',text)\n",
        "             text=re.sub('[\\W]+',' ',text.lower()) +\\\n",
        "                ' '.join(emojis).replace('-','')\n",
        "             return text   \n"
      ],
      "execution_count": null,
      "outputs": []
    },
    {
      "cell_type": "code",
      "metadata": {
        "id": "YMSMiuXo5PP1"
      },
      "source": [
        "letters_only = re.sub(\"[^a-zA-Z]\",  # Search for all non-letters\n",
        "                          \" \",          # Replace all non-letters with spaces\n",
        "                          str(data))"
      ],
      "execution_count": null,
      "outputs": []
    },
    {
      "cell_type": "code",
      "metadata": {
        "id": "Z2QrsyYK5efQ"
      },
      "source": [
        "data['text']=data['text'].apply(preprocessor)\n",
        "df_test['text']=df_test['text'].apply(preprocessor)"
      ],
      "execution_count": null,
      "outputs": []
    },
    {
      "cell_type": "code",
      "metadata": {
        "colab": {
          "base_uri": "https://localhost:8080/",
          "height": 204
        },
        "id": "B8DhfKbBFKIa",
        "outputId": "20ef2fa3-26a9-4665-ffac-47e01e650179"
      },
      "source": [
        "data.head()"
      ],
      "execution_count": null,
      "outputs": [
        {
          "output_type": "execute_result",
          "data": {
            "text/html": [
              "<div>\n",
              "<style scoped>\n",
              "    .dataframe tbody tr th:only-of-type {\n",
              "        vertical-align: middle;\n",
              "    }\n",
              "\n",
              "    .dataframe tbody tr th {\n",
              "        vertical-align: top;\n",
              "    }\n",
              "\n",
              "    .dataframe thead th {\n",
              "        text-align: right;\n",
              "    }\n",
              "</style>\n",
              "<table border=\"1\" class=\"dataframe\">\n",
              "  <thead>\n",
              "    <tr style=\"text-align: right;\">\n",
              "      <th></th>\n",
              "      <th>text</th>\n",
              "      <th>label</th>\n",
              "    </tr>\n",
              "  </thead>\n",
              "  <tbody>\n",
              "    <tr>\n",
              "      <th>0</th>\n",
              "      <td>i grew up b 1965 watching and loving the thund...</td>\n",
              "      <td>0</td>\n",
              "    </tr>\n",
              "    <tr>\n",
              "      <th>1</th>\n",
              "      <td>when i put this movie in my dvd player and sat...</td>\n",
              "      <td>0</td>\n",
              "    </tr>\n",
              "    <tr>\n",
              "      <th>2</th>\n",
              "      <td>why do people who do not know what a particula...</td>\n",
              "      <td>0</td>\n",
              "    </tr>\n",
              "    <tr>\n",
              "      <th>3</th>\n",
              "      <td>even though i have great interest in biblical ...</td>\n",
              "      <td>0</td>\n",
              "    </tr>\n",
              "    <tr>\n",
              "      <th>4</th>\n",
              "      <td>im a die hard dads army fan and nothing will e...</td>\n",
              "      <td>1</td>\n",
              "    </tr>\n",
              "  </tbody>\n",
              "</table>\n",
              "</div>"
            ],
            "text/plain": [
              "                                                text  label\n",
              "0  i grew up b 1965 watching and loving the thund...      0\n",
              "1  when i put this movie in my dvd player and sat...      0\n",
              "2  why do people who do not know what a particula...      0\n",
              "3  even though i have great interest in biblical ...      0\n",
              "4  im a die hard dads army fan and nothing will e...      1"
            ]
          },
          "metadata": {
            "tags": []
          },
          "execution_count": 22
        }
      ]
    },
    {
      "cell_type": "code",
      "metadata": {
        "id": "Fzi3yRQD5qO_"
      },
      "source": [
        "from nltk.stem.porter import PorterStemmer\n",
        "\n",
        "porter=PorterStemmer()"
      ],
      "execution_count": null,
      "outputs": []
    },
    {
      "cell_type": "code",
      "metadata": {
        "id": "ao1j4gwP57sH"
      },
      "source": [
        "def tokenizer(text):\n",
        "        return text.split()"
      ],
      "execution_count": null,
      "outputs": []
    },
    {
      "cell_type": "code",
      "metadata": {
        "colab": {
          "base_uri": "https://localhost:8080/",
          "height": 204
        },
        "id": "hbz3lqpIzIO4",
        "outputId": "ebcf334d-a1c6-4d4f-fdc6-bfa0da3e4230"
      },
      "source": [
        "data.head()"
      ],
      "execution_count": null,
      "outputs": [
        {
          "output_type": "execute_result",
          "data": {
            "text/html": [
              "<div>\n",
              "<style scoped>\n",
              "    .dataframe tbody tr th:only-of-type {\n",
              "        vertical-align: middle;\n",
              "    }\n",
              "\n",
              "    .dataframe tbody tr th {\n",
              "        vertical-align: top;\n",
              "    }\n",
              "\n",
              "    .dataframe thead th {\n",
              "        text-align: right;\n",
              "    }\n",
              "</style>\n",
              "<table border=\"1\" class=\"dataframe\">\n",
              "  <thead>\n",
              "    <tr style=\"text-align: right;\">\n",
              "      <th></th>\n",
              "      <th>text</th>\n",
              "      <th>label</th>\n",
              "    </tr>\n",
              "  </thead>\n",
              "  <tbody>\n",
              "    <tr>\n",
              "      <th>0</th>\n",
              "      <td>[i, grew, up, b, 1965, watching, and, loving, ...</td>\n",
              "      <td>0</td>\n",
              "    </tr>\n",
              "    <tr>\n",
              "      <th>1</th>\n",
              "      <td>[when, i, put, this, movie, in, my, dvd, playe...</td>\n",
              "      <td>0</td>\n",
              "    </tr>\n",
              "    <tr>\n",
              "      <th>2</th>\n",
              "      <td>[why, do, people, who, do, not, know, what, a,...</td>\n",
              "      <td>0</td>\n",
              "    </tr>\n",
              "    <tr>\n",
              "      <th>3</th>\n",
              "      <td>[even, though, i, have, great, interest, in, b...</td>\n",
              "      <td>0</td>\n",
              "    </tr>\n",
              "    <tr>\n",
              "      <th>4</th>\n",
              "      <td>[im, a, die, hard, dads, army, fan, and, nothi...</td>\n",
              "      <td>1</td>\n",
              "    </tr>\n",
              "  </tbody>\n",
              "</table>\n",
              "</div>"
            ],
            "text/plain": [
              "                                                text  label\n",
              "0  [i, grew, up, b, 1965, watching, and, loving, ...      0\n",
              "1  [when, i, put, this, movie, in, my, dvd, playe...      0\n",
              "2  [why, do, people, who, do, not, know, what, a,...      0\n",
              "3  [even, though, i, have, great, interest, in, b...      0\n",
              "4  [im, a, die, hard, dads, army, fan, and, nothi...      1"
            ]
          },
          "metadata": {
            "tags": []
          },
          "execution_count": 23
        }
      ]
    },
    {
      "cell_type": "code",
      "metadata": {
        "id": "gibHTiXD66pl"
      },
      "source": [
        "data['text'] = data['text'].apply(tokenizer)\n"
      ],
      "execution_count": null,
      "outputs": []
    },
    {
      "cell_type": "code",
      "metadata": {
        "id": "Z85UBxAmS6bD"
      },
      "source": [
        "df_test['text'] = df_test['text'].apply(tokenizer)"
      ],
      "execution_count": null,
      "outputs": []
    },
    {
      "cell_type": "code",
      "metadata": {
        "colab": {
          "base_uri": "https://localhost:8080/"
        },
        "id": "1SdA0TCIFWHp",
        "outputId": "643b64a3-77cc-416b-cded-fcc2d81411c5"
      },
      "source": [
        "data['text']"
      ],
      "execution_count": null,
      "outputs": [
        {
          "output_type": "execute_result",
          "data": {
            "text/plain": [
              "0       [i, grew, up, b, 1965, watching, and, loving, ...\n",
              "1       [when, i, put, this, movie, in, my, dvd, playe...\n",
              "2       [why, do, people, who, do, not, know, what, a,...\n",
              "3       [even, though, i, have, great, interest, in, b...\n",
              "4       [im, a, die, hard, dads, army, fan, and, nothi...\n",
              "                              ...                        \n",
              "4995    [man, i, loved, this, movie, this, really, tak...\n",
              "4996    [recovery, is, an, incredibly, moving, piece, ...\n",
              "4997    [you, can, take, the, crook, out, of, the, joi...\n",
              "4998    [futz, is, the, only, show, preserved, from, t...\n",
              "4999    [the, mother, tells, of, a, recently, widowed,...\n",
              "Name: text, Length: 45000, dtype: object"
            ]
          },
          "metadata": {
            "tags": []
          },
          "execution_count": 17
        }
      ]
    },
    {
      "cell_type": "code",
      "metadata": {
        "colab": {
          "base_uri": "https://localhost:8080/"
        },
        "id": "wKFy-ZnuImpX",
        "outputId": "f3bb552a-5357-46d1-dd6c-6b2c89786e99"
      },
      "source": [
        "porter_stemmer = PorterStemmer()\n",
        "data['stemmed_tokens'] = [[porter_stemmer.stem(word) for word in tokens] for tokens in data['text']]\n",
        "data['stemmed_tokens']"
      ],
      "execution_count": null,
      "outputs": [
        {
          "output_type": "execute_result",
          "data": {
            "text/plain": [
              "0       [i, grew, up, b, 1965, watch, and, love, the, ...\n",
              "1       [when, i, put, thi, movi, in, my, dvd, player,...\n",
              "2       [whi, do, peopl, who, do, not, know, what, a, ...\n",
              "3       [even, though, i, have, great, interest, in, b...\n",
              "4       [im, a, die, hard, dad, armi, fan, and, noth, ...\n",
              "                              ...                        \n",
              "4995    [man, i, love, thi, movi, thi, realli, take, m...\n",
              "4996    [recoveri, is, an, incred, move, piec, of, wor...\n",
              "4997    [you, can, take, the, crook, out, of, the, joi...\n",
              "4998    [futz, is, the, onli, show, preserv, from, the...\n",
              "4999    [the, mother, tell, of, a, recent, widow, mid,...\n",
              "Name: stemmed_tokens, Length: 45000, dtype: object"
            ]
          },
          "metadata": {
            "tags": []
          },
          "execution_count": 17
        }
      ]
    },
    {
      "cell_type": "code",
      "metadata": {
        "colab": {
          "base_uri": "https://localhost:8080/"
        },
        "id": "rtXBCWjgS1eH",
        "outputId": "0927eaaa-61d5-45c2-fc29-20fbb3d6a86d"
      },
      "source": [
        "df_test['stemmed_tokens'] = [[porter_stemmer.stem(word) for word in tokens] for tokens in df_test['text']]\n",
        "df_test['stemmed_tokens']"
      ],
      "execution_count": null,
      "outputs": [
        {
          "output_type": "execute_result",
          "data": {
            "text/plain": [
              "0       [i, alway, wrote, thi, seri, off, as, be, a, c...\n",
              "1       [1st, watch, 12, 7, 2002, 3, out, of, 10, dir,...\n",
              "2       [thi, movi, wa, so, poorli, written, and, dire...\n",
              "3       [the, most, interest, thing, about, miryang, s...\n",
              "4       [when, i, first, read, about, berlin, am, meer...\n",
              "                              ...                        \n",
              "4995    [thi, is, the, kind, of, pictur, john, lassit,...\n",
              "4996    [a, must, see, i, saw, whip, at, a, press, scr...\n",
              "4997    [nbc, should, be, asham, i, wouldn, t, allow, ...\n",
              "4998    [thi, movi, is, a, clumsi, mishmash, of, vario...\n",
              "4999    [formula, movi, about, the, illegitim, son, of...\n",
              "Name: stemmed_tokens, Length: 5000, dtype: object"
            ]
          },
          "metadata": {
            "tags": []
          },
          "execution_count": 18
        }
      ]
    },
    {
      "cell_type": "code",
      "metadata": {
        "colab": {
          "base_uri": "https://localhost:8080/"
        },
        "id": "LkiR2mLR6BGS",
        "outputId": "d36b2dcc-0594-4c4d-ce84-1884e35c6045"
      },
      "source": [
        "import nltk\n",
        "nltk.download('stopwords')"
      ],
      "execution_count": null,
      "outputs": [
        {
          "output_type": "stream",
          "text": [
            "[nltk_data] Downloading package stopwords to /root/nltk_data...\n",
            "[nltk_data]   Package stopwords is already up-to-date!\n"
          ],
          "name": "stdout"
        },
        {
          "output_type": "execute_result",
          "data": {
            "text/plain": [
              "True"
            ]
          },
          "metadata": {
            "tags": []
          },
          "execution_count": 19
        }
      ]
    },
    {
      "cell_type": "code",
      "metadata": {
        "colab": {
          "base_uri": "https://localhost:8080/"
        },
        "id": "27ioBzmj6FyP",
        "outputId": "08590fa3-c4f3-4198-d322-835a1d79f121"
      },
      "source": [
        "from nltk.corpus import stopwords\n",
        "stop=stopwords.words('english')\n",
        "print(stop)"
      ],
      "execution_count": null,
      "outputs": [
        {
          "output_type": "stream",
          "text": [
            "['i', 'me', 'my', 'myself', 'we', 'our', 'ours', 'ourselves', 'you', \"you're\", \"you've\", \"you'll\", \"you'd\", 'your', 'yours', 'yourself', 'yourselves', 'he', 'him', 'his', 'himself', 'she', \"she's\", 'her', 'hers', 'herself', 'it', \"it's\", 'its', 'itself', 'they', 'them', 'their', 'theirs', 'themselves', 'what', 'which', 'who', 'whom', 'this', 'that', \"that'll\", 'these', 'those', 'am', 'is', 'are', 'was', 'were', 'be', 'been', 'being', 'have', 'has', 'had', 'having', 'do', 'does', 'did', 'doing', 'a', 'an', 'the', 'and', 'but', 'if', 'or', 'because', 'as', 'until', 'while', 'of', 'at', 'by', 'for', 'with', 'about', 'against', 'between', 'into', 'through', 'during', 'before', 'after', 'above', 'below', 'to', 'from', 'up', 'down', 'in', 'out', 'on', 'off', 'over', 'under', 'again', 'further', 'then', 'once', 'here', 'there', 'when', 'where', 'why', 'how', 'all', 'any', 'both', 'each', 'few', 'more', 'most', 'other', 'some', 'such', 'no', 'nor', 'not', 'only', 'own', 'same', 'so', 'than', 'too', 'very', 's', 't', 'can', 'will', 'just', 'don', \"don't\", 'should', \"should've\", 'now', 'd', 'll', 'm', 'o', 're', 've', 'y', 'ain', 'aren', \"aren't\", 'couldn', \"couldn't\", 'didn', \"didn't\", 'doesn', \"doesn't\", 'hadn', \"hadn't\", 'hasn', \"hasn't\", 'haven', \"haven't\", 'isn', \"isn't\", 'ma', 'mightn', \"mightn't\", 'mustn', \"mustn't\", 'needn', \"needn't\", 'shan', \"shan't\", 'shouldn', \"shouldn't\", 'wasn', \"wasn't\", 'weren', \"weren't\", 'won', \"won't\", 'wouldn', \"wouldn't\"]\n"
          ],
          "name": "stdout"
        }
      ]
    },
    {
      "cell_type": "code",
      "metadata": {
        "colab": {
          "base_uri": "https://localhost:8080/"
        },
        "id": "wo3dDmhNR6_t",
        "outputId": "b9158dd0-6f08-4928-a0e7-dbd35d6365cb"
      },
      "source": [
        "df_test['no_stop'] = [[word for word in tokens if word not in stop] for tokens in df_test['text']]\n",
        "df_test['no_stop']"
      ],
      "execution_count": null,
      "outputs": [
        {
          "output_type": "execute_result",
          "data": {
            "text/plain": [
              "0       [always, wrote, series, complete, stink, fest,...\n",
              "1       [1st, watched, 12, 7, 2002, 3, 10, dir, steve,...\n",
              "2       [movie, poorly, written, directed, fell, aslee...\n",
              "3       [interesting, thing, miryang, secret, sunshine...\n",
              "4       [first, read, berlin, meer, expect, much, thou...\n",
              "                              ...                        \n",
              "4995    [kind, picture, john, lassiter, would, making,...\n",
              "4996    [must, see, saw, whipped, press, screening, hi...\n",
              "4997    [nbc, ashamed, allow, children, see, definitel...\n",
              "4998    [movie, clumsy, mishmash, various, ghost, stor...\n",
              "4999    [formula, movie, illegitimate, son, rich, chil...\n",
              "Name: no_stop, Length: 5000, dtype: object"
            ]
          },
          "metadata": {
            "tags": []
          },
          "execution_count": 21
        }
      ]
    },
    {
      "cell_type": "code",
      "metadata": {
        "colab": {
          "base_uri": "https://localhost:8080/"
        },
        "id": "xt_v-DQXLOws",
        "outputId": "f4059095-5515-4903-c7ea-6b4a156de991"
      },
      "source": [
        "data['no_stop'] = [[word for word in tokens if word not in stop] for tokens in data['text']]\n",
        "data['no_stop']"
      ],
      "execution_count": null,
      "outputs": [
        {
          "output_type": "execute_result",
          "data": {
            "text/plain": [
              "0       [grew, b, 1965, watching, loving, thunderbirds...\n",
              "1       [put, movie, dvd, player, sat, coke, chips, ex...\n",
              "2       [people, know, particular, time, past, like, f...\n",
              "3       [even, though, great, interest, biblical, movi...\n",
              "4       [im, die, hard, dads, army, fan, nothing, ever...\n",
              "                              ...                        \n",
              "4995    [man, loved, movie, really, takes, back, kid, ...\n",
              "4996    [recovery, incredibly, moving, piece, work, ha...\n",
              "4997    [take, crook, joint, seems, exceedingly, diffi...\n",
              "4998    [futz, show, preserved, experimental, theatre,...\n",
              "4999    [mother, tells, recently, widowed, mid, 60, mo...\n",
              "Name: no_stop, Length: 45000, dtype: object"
            ]
          },
          "metadata": {
            "tags": []
          },
          "execution_count": 22
        }
      ]
    },
    {
      "cell_type": "markdown",
      "metadata": {
        "id": "8kn7T12Ab_Go"
      },
      "source": [
        "word2vec"
      ]
    },
    {
      "cell_type": "code",
      "metadata": {
        "colab": {
          "base_uri": "https://localhost:8080/"
        },
        "id": "j7SSMPlXSqHN",
        "outputId": "eb49d835-2524-4ad8-8c0b-35e0482df640"
      },
      "source": [
        "vec_dim = 50\n",
        "total_data = pd.concat([data['no_stop'],df_test['no_stop']])\n",
        "\n",
        "# Model word2vec:\n",
        "total_data_w2v = Word2Vec(size=vec_dim, min_count=5) \n",
        "\n",
        "# Building the vocabulary:\n",
        "total_data_w2v.build_vocab(total_data)\n",
        "\n",
        "# Training the model:\n",
        "total_data_w2v.train(total_data, total_examples=total_data_w2v.corpus_count, epochs=total_data_w2v.epochs)"
      ],
      "execution_count": null,
      "outputs": [
        {
          "output_type": "execute_result",
          "data": {
            "text/plain": [
              "(28237105, 29896745)"
            ]
          },
          "metadata": {
            "tags": []
          },
          "execution_count": 23
        }
      ]
    },
    {
      "cell_type": "code",
      "metadata": {
        "colab": {
          "base_uri": "https://localhost:8080/"
        },
        "id": "5iJYKAUoUfwr",
        "outputId": "ffa6198d-949c-4459-9ca0-c8d1b8d106f8"
      },
      "source": [
        "len(total_data_w2v.wv.vocab)"
      ],
      "execution_count": null,
      "outputs": [
        {
          "output_type": "execute_result",
          "data": {
            "text/plain": [
              "39602"
            ]
          },
          "metadata": {
            "tags": []
          },
          "execution_count": 24
        }
      ]
    },
    {
      "cell_type": "code",
      "metadata": {
        "id": "CRvbn23IrHak"
      },
      "source": [
        "\n",
        "total_data_w2v.save(\"total_data_w2v.h5\")"
      ],
      "execution_count": null,
      "outputs": []
    },
    {
      "cell_type": "code",
      "metadata": {
        "colab": {
          "base_uri": "https://localhost:8080/"
        },
        "id": "ucXEaPPTI0mo",
        "outputId": "45614cac-9aef-4234-a1ba-d1cc891c4052"
      },
      "source": [
        "total_data_w2v.wv['sad']"
      ],
      "execution_count": null,
      "outputs": [
        {
          "output_type": "execute_result",
          "data": {
            "text/plain": [
              "array([-2.0428395 ,  0.51034087, -0.92333305,  1.6745832 , -0.07080913,\n",
              "        0.9986323 ,  0.02662858,  1.8398416 , -1.0563176 , -1.508779  ,\n",
              "        1.1695461 ,  0.14746764,  0.87842524,  0.6696353 , -1.0615405 ,\n",
              "        0.86614585, -2.4695985 ,  1.4295245 ,  0.9860187 , -0.69593537,\n",
              "        0.39617226,  0.31052637, -1.4401135 ,  0.83622396, -0.7708041 ,\n",
              "       -0.16816096,  1.5535235 ,  1.2886043 ,  0.2263467 ,  0.876058  ,\n",
              "        1.2395419 ,  0.45625073,  0.5905786 ,  1.1574581 ,  1.73241   ,\n",
              "        1.3319947 , -0.5115233 , -1.1395185 ,  1.2446511 ,  0.12588689,\n",
              "        0.07613489, -0.21934855, -0.40172595, -1.1182953 , -2.2951567 ,\n",
              "       -2.8642647 , -2.205136  ,  1.1848174 , -1.3732182 ,  1.1786618 ],\n",
              "      dtype=float32)"
            ]
          },
          "metadata": {
            "tags": []
          },
          "execution_count": 27
        }
      ]
    },
    {
      "cell_type": "code",
      "metadata": {
        "colab": {
          "base_uri": "https://localhost:8080/"
        },
        "id": "mDi5XFwFI_qA",
        "outputId": "baf97baa-4ff7-431e-9642-9575ece4fabb"
      },
      "source": [
        "total_data_w2v.wv.most_similar('sad')"
      ],
      "execution_count": null,
      "outputs": [
        {
          "output_type": "execute_result",
          "data": {
            "text/plain": [
              "[('honest', 0.6700061559677124),\n",
              " ('touching', 0.6551198363304138),\n",
              " ('depressing', 0.6520717740058899),\n",
              " ('cried', 0.6450546979904175),\n",
              " ('touched', 0.627734899520874),\n",
              " ('happy', 0.6148889660835266),\n",
              " ('cry', 0.6116873621940613),\n",
              " ('sick', 0.6059133410453796),\n",
              " ('heartwarming', 0.5792145133018494),\n",
              " ('frustrating', 0.5767905116081238)]"
            ]
          },
          "metadata": {
            "tags": []
          },
          "execution_count": 28
        }
      ]
    },
    {
      "cell_type": "markdown",
      "metadata": {
        "id": "XvhxL_0irBYt"
      },
      "source": [
        "LSTM"
      ]
    },
    {
      "cell_type": "markdown",
      "metadata": {
        "id": "qnAx0nPiseTq"
      },
      "source": [
        "padding"
      ]
    },
    {
      "cell_type": "code",
      "metadata": {
        "colab": {
          "base_uri": "https://localhost:8080/"
        },
        "id": "4Isb-IDTrCkB",
        "outputId": "2737fdf0-5d9a-4949-80d2-7fcd22c4a553"
      },
      "source": [
        "index2word = list(total_data_w2v.wv.vocab)\n",
        "embedding_matrix = total_data_w2v.wv[index2word]\n",
        "\n",
        "padding_vector = np.zeros((1, vec_dim))\n",
        "index2word.insert(0,'()')\n",
        "index2word = np.array(index2word)\n",
        "\n",
        "word2index = dict(zip(index2word, range(len(index2word))))\n",
        "\n",
        "embedding_matrix = np.vstack((padding_vector, embedding_matrix))\n",
        "\n",
        "print(np.shape(index2word))\n",
        "print(np.shape(embedding_matrix))"
      ],
      "execution_count": null,
      "outputs": [
        {
          "output_type": "stream",
          "text": [
            "(39603,)\n",
            "(39603, 50)\n"
          ],
          "name": "stdout"
        }
      ]
    },
    {
      "cell_type": "markdown",
      "metadata": {
        "id": "wKnCRCYhuFZY"
      },
      "source": [
        "定义X_train_code"
      ]
    },
    {
      "cell_type": "code",
      "metadata": {
        "id": "-LWqmJ0tsZ1q"
      },
      "source": [
        "def code_word(y):\n",
        "    try:\n",
        "        return word2index[y]\n",
        "    except KeyError:\n",
        "        return\n",
        "\n",
        "X_train_coded = []\n",
        "for text in data['no_stop']:\n",
        "    X_train_coded.append([y for y in [code_word(x) for x in text] if y != None])\n",
        "\n",
        "X_test_coded = []\n",
        "for text in df_test['no_stop']:\n",
        "    X_test_coded.append([y for y in [code_word(x) for x in text] if y != None])"
      ],
      "execution_count": null,
      "outputs": []
    },
    {
      "cell_type": "code",
      "metadata": {
        "id": "wUbxW0m1t8e-"
      },
      "source": [
        "aux = [len(x) for x in X_train_coded]\n",
        "i = np.argmax(aux)\n",
        "text_mas_palabras = X_train_coded[i]"
      ],
      "execution_count": null,
      "outputs": []
    },
    {
      "cell_type": "code",
      "metadata": {
        "colab": {
          "base_uri": "https://localhost:8080/",
          "height": 411
        },
        "id": "6avF5pFtuN1u",
        "outputId": "97c0ff63-f8f7-4b40-bf3a-116d6da06648"
      },
      "source": [
        "plt.figure(figsize=(20,10))\n",
        "f = sns.countplot(aux)\n",
        "plt.axis([0,400,0,300])\n",
        "plt.title(\"Histogram: number of words\", fontsize=18);"
      ],
      "execution_count": null,
      "outputs": [
        {
          "output_type": "stream",
          "text": [
            "/usr/local/lib/python3.7/dist-packages/seaborn/_decorators.py:43: FutureWarning: Pass the following variable as a keyword arg: x. From version 0.12, the only valid positional argument will be `data`, and passing other arguments without an explicit keyword will result in an error or misinterpretation.\n",
            "  FutureWarning\n"
          ],
          "name": "stderr"
        },
        {
          "output_type": "display_data",
          "data": {
            "image/png": "[encoded data removed]",
            "text/plain": [
              "<Figure size 1440x720 with 1 Axes>"
            ]
          },
          "metadata": {
            "tags": [],
            "needs_background": "light"
          }
        }
      ]
    },
    {
      "cell_type": "markdown",
      "metadata": {
        "id": "PoEZJN25uYJM"
      },
      "source": [
        "define the number of word per review"
      ]
    },
    {
      "cell_type": "code",
      "metadata": {
        "id": "zt3_Zaa9uXDv"
      },
      "source": [
        "max_words_text = 1096\n",
        "\n",
        "from keras.preprocessing.sequence import pad_sequences\n",
        "\n",
        "X_train_pad = pad_sequences(X_train_coded, maxlen=max_words_text)\n",
        "X_test_pad  = pad_sequences(X_test_coded,  maxlen=max_words_text)"
      ],
      "execution_count": null,
      "outputs": []
    },
    {
      "cell_type": "code",
      "metadata": {
        "id": "kMNG3ld1uex5"
      },
      "source": [
        "import keras\n",
        "from keras.layers.embeddings import Embedding\n",
        "from keras.layers import LSTM\n",
        "from keras.models import Sequential\n",
        "from keras.layers import Activation, Dense\n",
        "\n",
        "embedding_layer = Embedding(embedding_matrix.shape[0],\n",
        "                            embedding_matrix.shape[1],\n",
        "                            weights=[embedding_matrix],\n",
        "                            input_length=max_words_text,\n",
        "                            trainable=False)"
      ],
      "execution_count": null,
      "outputs": []
    },
    {
      "cell_type": "markdown",
      "metadata": {
        "id": "F_hfN4QZRRfs"
      },
      "source": [
        "双向的LSTM"
      ]
    },
    {
      "cell_type": "code",
      "metadata": {
        "colab": {
          "base_uri": "https://localhost:8080/",
          "height": 593
        },
        "id": "Q8JynU3RRU_5",
        "outputId": "14523189-8b44-4c81-ba1c-58d704bba83d"
      },
      "source": [
        "from tensorflow.keras.layers import Bidirectional\n",
        "set_dropout=False\n",
        "\n",
        "model4 = Sequential()\n",
        "model4.add(embedding_layer)\n",
        "if set_dropout:\n",
        "    model4.add(Dropout(0.3))\n",
        "model4.add(Bidirectional(LSTM(25, return_sequences=True)))\n",
        "if set_dropout:\n",
        "    model4.add(Dropout(0.1))\n",
        "model4.add(Dense(1, activation='sigmoid'))\n",
        "model4.compile(loss='binary_crossentropy', optimizer='RMSprop', metrics=['accuracy']) #    'adam'\n",
        "print(model4.summary())\n",
        "tf.keras.utils.plot_model(model=model4,show_shapes=True,dpi=76)"
      ],
      "execution_count": null,
      "outputs": [
        {
          "output_type": "stream",
          "text": [
            "Model: \"sequential\"\n",
            "_________________________________________________________________\n",
            "Layer (type)                 Output Shape              Param #   \n",
            "=================================================================\n",
            "embedding (Embedding)        (None, 1096, 50)          1980150   \n",
            "_________________________________________________________________\n",
            "bidirectional (Bidirectional (None, 1096, 50)          15200     \n",
            "_________________________________________________________________\n",
            "dense (Dense)                (None, 1096, 1)           51        \n",
            "=================================================================\n",
            "Total params: 1,995,401\n",
            "Trainable params: 15,251\n",
            "Non-trainable params: 1,980,150\n",
            "_________________________________________________________________\n",
            "None\n"
          ],
          "name": "stdout"
        },
        {
          "output_type": "execute_result",
          "data": {
            "image/png": "[encoded data removed]",
            "text/plain": [
              "<IPython.core.display.Image object>"
            ]
          },
          "metadata": {
            "tags": []
          },
          "execution_count": 34
        }
      ]
    },
    {
      "cell_type": "code",
      "metadata": {
        "id": "72ORtsLIRbmt"
      },
      "source": [
        "y_train = data[\"label\"][:len(data)].values\n",
        "y_test = df_test[\"label\"][:len(df_test)].values"
      ],
      "execution_count": null,
      "outputs": []
    },
    {
      "cell_type": "code",
      "metadata": {
        "colab": {
          "base_uri": "https://localhost:8080/",
          "height": 236
        },
        "id": "_NwipvvlRd0v",
        "outputId": "31b680f9-6acc-4096-b1ca-1b0fb8db2cc7"
      },
      "source": [
        "from keras.callbacks import ModelCheckpoint\n",
        "from keras.models import load_model\n",
        "from sklearn.cluster import KMeans\n",
        "\n",
        "\n",
        "BATCH_SIZE = 256\n",
        "nepochs = 5\n",
        "TRAIN2 = True\n",
        "filepath4 = \"B_LSTM_model.h5\"\n",
        "\n",
        "\n",
        "if TRAIN2:\n",
        "    acum_tr_acc = []\n",
        "    acum_val_acc = []\n",
        "    checkpoint = ModelCheckpoint(filepath4, monitor='val_accuracy', verbose=1,\n",
        "                                 save_best_only=True,\n",
        "                                 mode='max') \n",
        "    callbacks_list = [checkpoint]\n",
        "\n",
        "\n",
        "    history = model4.fit(X_train_pad, y_train,\n",
        "                             batch_size=BATCH_SIZE,\n",
        "                             epochs=10,\n",
        "                             verbose=1,\n",
        "                             callbacks=callbacks_list,\n",
        "                             validation_split=0.3,\n",
        "                             shuffle=False,\n",
        "                            )\n",
        "    \n",
        "    acum_tr_acc = acum_tr_acc + history.history['accuracy']\n",
        "    acum_val_acc = acum_val_acc + history.history['val_accuracy']\n",
        "\n",
        "\n",
        "model4 = load_model(filepath4)\n",
        "\n",
        "\n"
      ],
      "execution_count": null,
      "outputs": [
        {
          "output_type": "error",
          "ename": "NameError",
          "evalue": "ignored",
          "traceback": [
            "\u001b[0;31m---------------------------------------------------------------------------\u001b[0m",
            "\u001b[0;31mNameError\u001b[0m                                 Traceback (most recent call last)",
            "\u001b[0;32m<ipython-input-1-06092487faf9>\u001b[0m in \u001b[0;36m<module>\u001b[0;34m()\u001b[0m\n\u001b[1;32m     19\u001b[0m \u001b[0;34m\u001b[0m\u001b[0m\n\u001b[1;32m     20\u001b[0m \u001b[0;34m\u001b[0m\u001b[0m\n\u001b[0;32m---> 21\u001b[0;31m     history = model4.fit(X_train_pad, y_train,\n\u001b[0m\u001b[1;32m     22\u001b[0m                              \u001b[0mbatch_size\u001b[0m\u001b[0;34m=\u001b[0m\u001b[0mBATCH_SIZE\u001b[0m\u001b[0;34m,\u001b[0m\u001b[0;34m\u001b[0m\u001b[0;34m\u001b[0m\u001b[0m\n\u001b[1;32m     23\u001b[0m                              \u001b[0mepochs\u001b[0m\u001b[0;34m=\u001b[0m\u001b[0;36m10\u001b[0m\u001b[0;34m,\u001b[0m\u001b[0;34m\u001b[0m\u001b[0;34m\u001b[0m\u001b[0m\n",
            "\u001b[0;31mNameError\u001b[0m: name 'model4' is not defined"
          ]
        }
      ]
    },
    {
      "cell_type": "code",
      "metadata": {
        "colab": {
          "base_uri": "https://localhost:8080/",
          "height": 312
        },
        "id": "v257alL1T3JI",
        "outputId": "69b1b813-1349-4b9a-b245-0dfa18386ba7"
      },
      "source": [
        "plt.plot(history.history['accuracy'])\n",
        "plt.plot(history.history['val_accuracy'])\n",
        "plt.legend(['Training', 'Test'])\n",
        "plt.title('accuracy')\n",
        "plt.xlabel('epoch')"
      ],
      "execution_count": null,
      "outputs": [
        {
          "output_type": "execute_result",
          "data": {
            "text/plain": [
              "Text(0.5, 0, 'epoch')"
            ]
          },
          "metadata": {
            "tags": []
          },
          "execution_count": 38
        },
        {
          "output_type": "display_data",
          "data": {
            "image/png": "[encoded data removed]",
            "text/plain": [
              "<Figure size 432x288 with 1 Axes>"
            ]
          },
          "metadata": {
            "tags": [],
            "needs_background": "light"
          }
        }
      ]
    },
    {
      "cell_type": "markdown",
      "metadata": {
        "id": "VVteuLc0NCaM"
      },
      "source": [
        "CNN"
      ]
    },
    {
      "cell_type": "code",
      "metadata": {
        "colab": {
          "base_uri": "https://localhost:8080/",
          "height": 958
        },
        "id": "BNPgYBBBM7-E",
        "outputId": "ad03c58e-e454-4909-e75f-2c3212e97ba5"
      },
      "source": [
        "from tensorflow.keras.layers import Conv1D, MaxPooling1D, GlobalMaxPooling1D \n",
        "set_dropout=False\n",
        "\n",
        "# create the model\n",
        "model3 = Sequential()\n",
        "model3.add(embedding_layer)\n",
        "if set_dropout:\n",
        "    model3.add(Dropout(1.2))\n",
        "model3.add(Conv1D(64, 8, activation = 'relu'))\n",
        "#here 64 is number of filters and 8 is size of filters\n",
        "model3.add(MaxPooling1D(2))\n",
        "model3.add(Dense(32, activation='relu'))\n",
        "model3.add(GlobalMaxPooling1D())\n",
        "if set_dropout:\n",
        "    model3.add(Dropout(0.3))\n",
        "model3.add(Dense(1, activation='sigmoid'))\n",
        "model3.compile(loss='binary_crossentropy', optimizer='RMSprop', metrics=['accuracy']) #    'adam'\n",
        "print(model3.summary())\n",
        "tf.keras.utils.plot_model(model=model3,show_shapes=True,dpi=76)"
      ],
      "execution_count": null,
      "outputs": [
        {
          "output_type": "stream",
          "text": [
            "Model: \"sequential_6\"\n",
            "_________________________________________________________________\n",
            "Layer (type)                 Output Shape              Param #   \n",
            "=================================================================\n",
            "embedding (Embedding)        (None, 1096, 50)          1980150   \n",
            "_________________________________________________________________\n",
            "conv1d_3 (Conv1D)            (None, 1089, 64)          25664     \n",
            "_________________________________________________________________\n",
            "max_pooling1d_3 (MaxPooling1 (None, 544, 64)           0         \n",
            "_________________________________________________________________\n",
            "dense_9 (Dense)              (None, 544, 32)           2080      \n",
            "_________________________________________________________________\n",
            "global_max_pooling1d_3 (Glob (None, 32)                0         \n",
            "_________________________________________________________________\n",
            "dense_10 (Dense)             (None, 1)                 33        \n",
            "=================================================================\n",
            "Total params: 2,007,927\n",
            "Trainable params: 27,777\n",
            "Non-trainable params: 1,980,150\n",
            "_________________________________________________________________\n",
            "None\n"
          ],
          "name": "stdout"
        },
        {
          "output_type": "execute_result",
          "data": {
            "image/png": "[encoded data removed]",
            "text/plain": [
              "<IPython.core.display.Image object>"
            ]
          },
          "metadata": {
            "tags": []
          },
          "execution_count": 81
        }
      ]
    },
    {
      "cell_type": "code",
      "metadata": {
        "id": "TZfPhNceNoT0"
      },
      "source": [
        "y_train_cnn = data[\"label\"][:len(data)].values\n",
        "y_test_cnn = df_test[\"label\"][:len(df_test)].values"
      ],
      "execution_count": null,
      "outputs": []
    },
    {
      "cell_type": "code",
      "metadata": {
        "colab": {
          "base_uri": "https://localhost:8080/"
        },
        "id": "D5FFQ6yqNvkt",
        "outputId": "2eaf60da-b4de-4566-dbb4-d72304fc299b"
      },
      "source": [
        "from keras.callbacks import ModelCheckpoint\n",
        "from keras.models import load_model\n",
        "from sklearn.cluster import KMeans\n",
        "\n",
        "\n",
        "BATCH_SIZE = 256\n",
        "nepochs = 5\n",
        "TRAIN2 = True\n",
        "filepath3 = \"CNN_model.h5\"\n",
        "\n",
        "\n",
        "if TRAIN2:\n",
        "    acum_tr_acc = []\n",
        "    acum_val_acc = []\n",
        "    checkpoint = ModelCheckpoint(filepath3, monitor='val_accuracy', verbose=1,\n",
        "                                 save_best_only=True,\n",
        "                                 mode='max') \n",
        "    callbacks_list = [checkpoint]\n",
        "\n",
        "\n",
        "    history = model3.fit(X_train_pad, y_train_cnn,\n",
        "                             batch_size=BATCH_SIZE,\n",
        "                             epochs=10,\n",
        "                             verbose=1,\n",
        "                             callbacks=callbacks_list,\n",
        "                             validation_split=0.3,\n",
        "                             shuffle=False,\n",
        "                            )\n",
        "    \n",
        "    acum_tr_acc = acum_tr_acc + history.history['accuracy']\n",
        "    acum_val_acc = acum_val_acc + history.history['val_accuracy']\n",
        "\n",
        "\n",
        "model3 = load_model(filepath3)\n",
        "\n",
        "\n"
      ],
      "execution_count": null,
      "outputs": [
        {
          "output_type": "stream",
          "text": [
            "Epoch 1/10\n",
            "124/124 [==============================] - 12s 81ms/step - loss: 0.6169 - accuracy: 0.7185 - val_loss: 0.4261 - val_accuracy: 0.7982\n",
            "\n",
            "Epoch 00001: val_accuracy improved from -inf to 0.79816, saving model to CNN_model.h5\n",
            "Epoch 2/10\n",
            "124/124 [==============================] - 10s 78ms/step - loss: 0.3492 - accuracy: 0.8511 - val_loss: 0.3477 - val_accuracy: 0.8448\n",
            "\n",
            "Epoch 00002: val_accuracy improved from 0.79816 to 0.84475, saving model to CNN_model.h5\n",
            "Epoch 3/10\n",
            "124/124 [==============================] - 10s 77ms/step - loss: 0.3099 - accuracy: 0.8689 - val_loss: 0.3390 - val_accuracy: 0.8527\n",
            "\n",
            "Epoch 00003: val_accuracy improved from 0.84475 to 0.85268, saving model to CNN_model.h5\n",
            "Epoch 4/10\n",
            "124/124 [==============================] - 10s 77ms/step - loss: 0.2837 - accuracy: 0.8826 - val_loss: 0.3398 - val_accuracy: 0.8531\n",
            "\n",
            "Epoch 00004: val_accuracy improved from 0.85268 to 0.85312, saving model to CNN_model.h5\n",
            "Epoch 5/10\n",
            "124/124 [==============================] - 10s 78ms/step - loss: 0.2600 - accuracy: 0.8963 - val_loss: 0.3453 - val_accuracy: 0.8511\n",
            "\n",
            "Epoch 00005: val_accuracy did not improve from 0.85312\n",
            "Epoch 6/10\n",
            "124/124 [==============================] - 10s 78ms/step - loss: 0.2425 - accuracy: 0.9056 - val_loss: 0.3543 - val_accuracy: 0.8490\n",
            "\n",
            "Epoch 00006: val_accuracy did not improve from 0.85312\n",
            "Epoch 7/10\n",
            "124/124 [==============================] - 10s 78ms/step - loss: 0.2261 - accuracy: 0.9135 - val_loss: 0.3451 - val_accuracy: 0.8543\n",
            "\n",
            "Epoch 00007: val_accuracy improved from 0.85312 to 0.85431, saving model to CNN_model.h5\n",
            "Epoch 8/10\n",
            "124/124 [==============================] - 10s 77ms/step - loss: 0.2070 - accuracy: 0.9228 - val_loss: 0.3615 - val_accuracy: 0.8490\n",
            "\n",
            "Epoch 00008: val_accuracy did not improve from 0.85431\n",
            "Epoch 9/10\n",
            "124/124 [==============================] - 9s 77ms/step - loss: 0.2005 - accuracy: 0.9243 - val_loss: 0.3597 - val_accuracy: 0.8524\n",
            "\n",
            "Epoch 00009: val_accuracy did not improve from 0.85431\n",
            "Epoch 10/10\n",
            "124/124 [==============================] - 10s 77ms/step - loss: 0.1843 - accuracy: 0.9300 - val_loss: 0.3485 - val_accuracy: 0.8566\n",
            "\n",
            "Epoch 00010: val_accuracy improved from 0.85431 to 0.85660, saving model to CNN_model.h5\n"
          ],
          "name": "stdout"
        }
      ]
    },
    {
      "cell_type": "code",
      "metadata": {
        "colab": {
          "base_uri": "https://localhost:8080/",
          "height": 312
        },
        "id": "Z3SkcaBBViOu",
        "outputId": "83366c23-2679-4188-80da-f6d77dfaf06e"
      },
      "source": [
        "plt.plot(history.history['accuracy'])\n",
        "plt.plot(history.history['val_accuracy'])\n",
        "plt.legend(['Training', 'Test'])\n",
        "plt.title('accuracy')\n",
        "plt.xlabel('epoch')"
      ],
      "execution_count": null,
      "outputs": [
        {
          "output_type": "execute_result",
          "data": {
            "text/plain": [
              "Text(0.5, 0, 'epoch')"
            ]
          },
          "metadata": {
            "tags": []
          },
          "execution_count": 86
        },
        {
          "output_type": "display_data",
          "data": {
            "image/png": "[encoded data removed]",
            "text/plain": [
              "<Figure size 432x288 with 1 Axes>"
            ]
          },
          "metadata": {
            "tags": [],
            "needs_background": "light"
          }
        }
      ]
    },
    {
      "cell_type": "code",
      "metadata": {
        "colab": {
          "base_uri": "https://localhost:8080/",
          "height": 312
        },
        "id": "nBvEMaB6v0aO",
        "outputId": "253f534c-e64f-4d55-d975-80cb3cdc7063"
      },
      "source": [
        "plt.plot(history.history['loss'])\n",
        "plt.plot(history.history['val_loss'])\n",
        "plt.legend(['Training', 'Test'])\n",
        "plt.title('Loss')\n",
        "plt.xlabel('epoch')"
      ],
      "execution_count": null,
      "outputs": [
        {
          "output_type": "execute_result",
          "data": {
            "text/plain": [
              "Text(0.5, 0, 'epoch')"
            ]
          },
          "metadata": {
            "tags": []
          },
          "execution_count": 87
        },
        {
          "output_type": "display_data",
          "data": {
            "image/png": "[encoded data removed]",
            "text/plain": [
              "<Figure size 432x288 with 1 Axes>"
            ]
          },
          "metadata": {
            "tags": [],
            "needs_background": "light"
          }
        }
      ]
    },
    {
      "cell_type": "code",
      "metadata": {
        "id": "DYZHtMo9OL3x"
      },
      "source": [
        "y_train_pred_prob3 = model3.predict(X_train_pad)\n",
        "y_test_pred_prob3  = model3.predict(X_test_pad)\n",
        "\n",
        "y_train_pred3 = y_train_pred_prob3.round()\n",
        "y_test_pred3  = y_test_pred_prob3.round()"
      ],
      "execution_count": null,
      "outputs": []
    },
    {
      "cell_type": "code",
      "metadata": {
        "id": "ROtp_aMtObC8"
      },
      "source": [
        "from sklearn.linear_model import SGDClassifier\n",
        "from sklearn.metrics import accuracy_score"
      ],
      "execution_count": null,
      "outputs": []
    },
    {
      "cell_type": "code",
      "metadata": {
        "id": "yiucMmH-Om5O"
      },
      "source": [
        "score_train3 = accuracy_score(y_train, y_train_pred3)\n",
        "score_test3  = accuracy_score(y_test,  y_test_pred3)\n",
        "\n",
        "print(\"Accuracy (training): %.2f%%\" % (100*score_train3))\n",
        "print(\"Accuracy (test)    : %.2f%%\" % (100*score_test3))"
      ],
      "execution_count": null,
      "outputs": []
    },
    {
      "cell_type": "markdown",
      "metadata": {
        "id": "fU-5GvJ-NFax"
      },
      "source": [
        "LSTM_model\n"
      ]
    },
    {
      "cell_type": "code",
      "metadata": {
        "id": "ffcZF5GUukvb"
      },
      "source": [
        "set_dropout=False\n",
        "\n",
        "# create the model\n",
        "model2 = Sequential()\n",
        "#model2.add(Embedding(top_words, embedding_vector_length, input_length=max_review_length,\n",
        "#                    activity_regularizer='l2'))\n",
        "model2.add(embedding_layer)\n",
        "if set_dropout:\n",
        "    model2.add(Dropout(0.2))\n",
        "#model2.add(LSTM(10, dropout=0.2, recurrent_dropout=0.2))\n",
        "model2.add(LSTM(25, return_sequences=True))\n",
        "model2.add(LSTM(25))\n",
        "if set_dropout:\n",
        "    model2.add(Dropout(0.4))\n",
        "model2.add(Dense(1, activation='sigmoid'))\n",
        "model2.compile(loss='binary_crossentropy', optimizer='RMSprop', metrics=['accuracy']) #    'adam'"
      ],
      "execution_count": null,
      "outputs": []
    },
    {
      "cell_type": "code",
      "metadata": {
        "colab": {
          "base_uri": "https://localhost:8080/"
        },
        "id": "YF26riAGvUy5",
        "outputId": "39a1209a-9bbf-453a-80be-c1c7dd399335"
      },
      "source": [
        "print(model2.summary())"
      ],
      "execution_count": null,
      "outputs": [
        {
          "output_type": "stream",
          "text": [
            "Model: \"sequential\"\n",
            "_________________________________________________________________\n",
            "Layer (type)                 Output Shape              Param #   \n",
            "=================================================================\n",
            "embedding (Embedding)        (None, 1096, 50)          1980150   \n",
            "_________________________________________________________________\n",
            "lstm (LSTM)                  (None, 1096, 25)          7600      \n",
            "_________________________________________________________________\n",
            "lstm_1 (LSTM)                (None, 25)                5100      \n",
            "_________________________________________________________________\n",
            "dense (Dense)                (None, 1)                 26        \n",
            "=================================================================\n",
            "Total params: 1,992,876\n",
            "Trainable params: 12,726\n",
            "Non-trainable params: 1,980,150\n",
            "_________________________________________________________________\n",
            "None\n"
          ],
          "name": "stdout"
        }
      ]
    },
    {
      "cell_type": "code",
      "metadata": {
        "colab": {
          "base_uri": "https://localhost:8080/",
          "height": 426
        },
        "id": "xZU0nl5H-xpf",
        "outputId": "15c1f97d-05a8-439b-bf3b-dac95b9012f1"
      },
      "source": [
        "tf.keras.utils.plot_model(model=model2,show_shapes=True,dpi=76)"
      ],
      "execution_count": null,
      "outputs": [
        {
          "output_type": "execute_result",
          "data": {
            "image/png": "[encoded data removed]",
            "text/plain": [
              "<IPython.core.display.Image object>"
            ]
          },
          "metadata": {
            "tags": []
          },
          "execution_count": 53
        }
      ]
    },
    {
      "cell_type": "code",
      "metadata": {
        "id": "mdJ0B1Xcw-xu"
      },
      "source": [
        "y_train = data[\"label\"][:len(data)].values\n",
        "y_test = df_test[\"label\"][:len(df_test)].values"
      ],
      "execution_count": null,
      "outputs": []
    },
    {
      "cell_type": "code",
      "metadata": {
        "colab": {
          "base_uri": "https://localhost:8080/"
        },
        "id": "zewnN3ZIvW1Q",
        "outputId": "4a97e14d-ef02-4466-ecd5-c8bfb6d210f8"
      },
      "source": [
        "from keras.callbacks import ModelCheckpoint\n",
        "from keras.models import load_model\n",
        "from sklearn.cluster import KMeans\n",
        "\n",
        "\n",
        "BATCH_SIZE = 256\n",
        "nepochs = 5\n",
        "TRAIN2 = True\n",
        "filepath2 = \"LSTM_model.h5\"\n",
        "\n",
        "\n",
        "if TRAIN2:\n",
        "    acum_tr_acc = []\n",
        "    acum_val_acc = []\n",
        "    checkpoint = ModelCheckpoint(filepath2, monitor='val_accuracy', verbose=1,\n",
        "                                 save_best_only=True,\n",
        "                                 mode='max') \n",
        "    callbacks_list = [checkpoint]\n",
        "\n",
        "\n",
        "    history = model2.fit(X_train_pad, y_train,\n",
        "                             batch_size=BATCH_SIZE,\n",
        "                             epochs=10,\n",
        "                             verbose=1,\n",
        "                             callbacks=callbacks_list,\n",
        "                             validation_split=0.3,\n",
        "                             shuffle=False,\n",
        "                            )\n",
        "    \n",
        "    acum_tr_acc = acum_tr_acc + history.history['accuracy']\n",
        "    acum_val_acc = acum_val_acc + history.history['val_accuracy']\n",
        "        #training_graph = KMeans.training_graph()\n",
        "        #if len(acum_tr_acc) > 1:\n",
        "        #    training_graph(acum_tr_acc, acum_val_acc)\n",
        "\n",
        "model2 = load_model(filepath2)\n",
        "\n",
        "\n"
      ],
      "execution_count": null,
      "outputs": [
        {
          "output_type": "stream",
          "text": [
            "Epoch 1/10\n",
            "124/124 [==============================] - 41s 298ms/step - loss: 0.5263 - accuracy: 0.7385 - val_loss: 0.3694 - val_accuracy: 0.8459\n",
            "\n",
            "Epoch 00001: val_accuracy improved from -inf to 0.84586, saving model to LSTM_model.h5\n",
            "Epoch 2/10\n",
            "124/124 [==============================] - 36s 287ms/step - loss: 0.3646 - accuracy: 0.8474 - val_loss: 0.3573 - val_accuracy: 0.8583\n",
            "\n",
            "Epoch 00002: val_accuracy improved from 0.84586 to 0.85831, saving model to LSTM_model.h5\n",
            "Epoch 3/10\n",
            "124/124 [==============================] - 36s 287ms/step - loss: 0.3369 - accuracy: 0.8596 - val_loss: 0.4058 - val_accuracy: 0.8465\n",
            "\n",
            "Epoch 00003: val_accuracy did not improve from 0.85831\n",
            "Epoch 4/10\n",
            "124/124 [==============================] - 36s 287ms/step - loss: 0.3201 - accuracy: 0.8697 - val_loss: 0.3776 - val_accuracy: 0.8590\n",
            "\n",
            "Epoch 00004: val_accuracy improved from 0.85831 to 0.85905, saving model to LSTM_model.h5\n",
            "Epoch 5/10\n",
            "124/124 [==============================] - 35s 286ms/step - loss: 0.3042 - accuracy: 0.8770 - val_loss: 0.3046 - val_accuracy: 0.8802\n",
            "\n",
            "Epoch 00005: val_accuracy improved from 0.85905 to 0.88023, saving model to LSTM_model.h5\n",
            "Epoch 6/10\n",
            "124/124 [==============================] - 36s 288ms/step - loss: 0.2865 - accuracy: 0.8851 - val_loss: 0.4285 - val_accuracy: 0.8435\n",
            "\n",
            "Epoch 00006: val_accuracy did not improve from 0.88023\n",
            "Epoch 7/10\n",
            "124/124 [==============================] - 36s 287ms/step - loss: 0.2839 - accuracy: 0.8870 - val_loss: 0.3169 - val_accuracy: 0.8793\n",
            "\n",
            "Epoch 00007: val_accuracy did not improve from 0.88023\n",
            "Epoch 8/10\n",
            "124/124 [==============================] - 35s 287ms/step - loss: 0.2710 - accuracy: 0.8917 - val_loss: 0.4631 - val_accuracy: 0.8322\n",
            "\n",
            "Epoch 00008: val_accuracy did not improve from 0.88023\n",
            "Epoch 9/10\n",
            "124/124 [==============================] - 35s 287ms/step - loss: 0.2688 - accuracy: 0.8928 - val_loss: 0.2827 - val_accuracy: 0.8887\n",
            "\n",
            "Epoch 00009: val_accuracy improved from 0.88023 to 0.88867, saving model to LSTM_model.h5\n",
            "Epoch 10/10\n",
            "124/124 [==============================] - 35s 286ms/step - loss: 0.2540 - accuracy: 0.8993 - val_loss: 0.2822 - val_accuracy: 0.8894\n",
            "\n",
            "Epoch 00010: val_accuracy improved from 0.88867 to 0.88942, saving model to LSTM_model.h5\n"
          ],
          "name": "stdout"
        }
      ]
    },
    {
      "cell_type": "code",
      "metadata": {
        "colab": {
          "base_uri": "https://localhost:8080/",
          "height": 312
        },
        "id": "mSK-spYIXiGk",
        "outputId": "cdf2a27b-9c01-45a2-a73a-56784db0b32c"
      },
      "source": [
        "plt.plot(history.history['loss'])\n",
        "plt.plot(history.history['val_loss'])\n",
        "plt.legend(['Training', 'Test'])\n",
        "plt.title('Loss')\n",
        "plt.xlabel('epoch')"
      ],
      "execution_count": null,
      "outputs": [
        {
          "output_type": "execute_result",
          "data": {
            "text/plain": [
              "Text(0.5, 0, 'epoch')"
            ]
          },
          "metadata": {
            "tags": []
          },
          "execution_count": 68
        },
        {
          "output_type": "display_data",
          "data": {
            "image/png": "[encoded data removed]",
            "text/plain": [
              "<Figure size 432x288 with 1 Axes>"
            ]
          },
          "metadata": {
            "tags": [],
            "needs_background": "light"
          }
        }
      ]
    },
    {
      "cell_type": "code",
      "metadata": {
        "colab": {
          "base_uri": "https://localhost:8080/",
          "height": 312
        },
        "id": "WkD_SLc2eSzW",
        "outputId": "d93f5e2a-fc0b-4f2b-a57a-448fcec98e68"
      },
      "source": [
        "plt.plot(history.history['accuracy'])\n",
        "plt.plot(history.history['val_accuracy'])\n",
        "plt.legend(['Training', 'Test'])\n",
        "plt.title('accuracy')\n",
        "plt.xlabel('epoch')"
      ],
      "execution_count": null,
      "outputs": [
        {
          "output_type": "execute_result",
          "data": {
            "text/plain": [
              "Text(0.5, 0, 'epoch')"
            ]
          },
          "metadata": {
            "tags": []
          },
          "execution_count": 69
        },
        {
          "output_type": "display_data",
          "data": {
            "image/png": "[encoded data removed]",
            "text/plain": [
              "<Figure size 432x288 with 1 Axes>"
            ]
          },
          "metadata": {
            "tags": [],
            "needs_background": "light"
          }
        }
      ]
    },
    {
      "cell_type": "code",
      "metadata": {
        "id": "1HgBfqgzxGaH"
      },
      "source": [
        "y_train_pred_prob2 = model2.predict(X_train_pad)\n",
        "y_test_pred_prob2  = model2.predict(X_test_pad)\n",
        "\n",
        "y_train_pred2 = y_train_pred_prob2.round()\n",
        "y_test_pred2  = y_test_pred_prob2.round()"
      ],
      "execution_count": null,
      "outputs": []
    },
    {
      "cell_type": "code",
      "metadata": {
        "id": "J7uHRnVxx5qr"
      },
      "source": [
        "from sklearn.linear_model import SGDClassifier\n",
        "from sklearn.metrics import accuracy_score"
      ],
      "execution_count": null,
      "outputs": []
    },
    {
      "cell_type": "code",
      "metadata": {
        "id": "V6MOtIhfyNb9"
      },
      "source": [
        "y_test.shape"
      ],
      "execution_count": null,
      "outputs": []
    },
    {
      "cell_type": "code",
      "metadata": {
        "colab": {
          "base_uri": "https://localhost:8080/"
        },
        "id": "tas5zultxPbp",
        "outputId": "bb43ef1a-16f9-4e55-e3e2-0c64679b706b"
      },
      "source": [
        "score_train2 = accuracy_score(y_train, y_train_pred2)\n",
        "score_test2  = accuracy_score(y_test,  y_test_pred2)\n",
        "\n",
        "print(\"Accuracy (training): %.2f%%\" % (100*score_train2))\n",
        "print(\"Accuracy (test)    : %.2f%%\" % (100*score_test2))\n"
      ],
      "execution_count": null,
      "outputs": [
        {
          "output_type": "stream",
          "text": [
            "Accuracy (training): 90.01%\n",
            "Accuracy (test)    : 87.60%\n"
          ],
          "name": "stdout"
        }
      ]
    }
  ]
}